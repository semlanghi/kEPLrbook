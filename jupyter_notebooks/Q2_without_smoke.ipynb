{
 "cells": [
  {
   "cell_type": "code",
   "execution_count": 1,
   "id": "76068a36",
   "metadata": {},
   "outputs": [
    {
     "data": {
      "text/plain": [
       "Query file created and compiled."
      ]
     },
     "metadata": {},
     "output_type": "display_data"
    }
   ],
   "source": [
    "CREATE SCHEMA CameraEvent (camera string);\n",
    "CREATE SCHEMA MovementDetection (xCoordinate int,\n",
    "yCoordinate int) INHERITS CameraEvent;\n",
    "CREATE SCHEMA MalfunctionEvent (log string)\n",
    "INHERITS CameraEvent;\n",
    "CREATE SCHEMA SmokeEvent (sensor string);\n",
    "CREATE SCHEMA TemperatureEvent (therm string,\n",
    "temp double, humidity double);\n",
    "\n",
    "\n",
    "@name('Prova')SELECT * FROM PATTERN\n",
    "[EVERY (x=MovementDetection OR y=SmokeEvent) ->\n",
    "z=TemperatureEvent(z.temp > 40 AND z.humidity < 20.0) where timer:within(5 minutes)] \n",
    "WHERE x.camera = z.therm OR y.sensor = z.therm;"
   ]
  },
  {
   "cell_type": "code",
   "execution_count": 2,
   "id": "6822201d",
   "metadata": {},
   "outputs": [
    {
     "data": {
      "text/plain": [
       "Input file created."
      ]
     },
     "metadata": {},
     "output_type": "display_data"
    }
   ],
   "source": [
    "%input\n",
    "inputs:\n",
    "        \n",
    "    0: \n",
    "    - type: \"TemperatureEvent\"\n",
    "      therm: \"R1\"\n",
    "      temp: 21.0\n",
    "      humidity: 40.0\n",
    "    \n",
    "    10000: \n",
    "    - type: \"TemperatureEvent\"\n",
    "      therm: \"R2\"\n",
    "      temp: 20.0\n",
    "      humidity: 42.0\n",
    "      \n",
    "    20000: \n",
    "    - type: \"TemperatureEvent\"\n",
    "      therm: \"R1\"\n",
    "      temp: 21.0\n",
    "      humidity: 39.0\n",
    "      \n",
    "    25000: \n",
    "    - type: \"MovementDetection\"\n",
    "      camera: \"R2\"\n",
    "      xCoordinate: 1\n",
    "      yCoordinate: 2\n",
    "      \n",
    "    30000:\n",
    "    - type: \"TemperatureEvent\"\n",
    "      therm: \"R2\"\n",
    "      temp: 21.0\n",
    "      humidity: 38.0\n",
    "      \n",
    "    31000: \n",
    "    - type: \"MovementDetection\"\n",
    "      camera: \"R2\"\n",
    "      xCoordinate: 3\n",
    "      yCoordinate: 4\n",
    "      \n",
    "    32000: \n",
    "    - type: \"MovementDetection\"\n",
    "      camera: \"R2\"\n",
    "      xCoordinate: 5\n",
    "      yCoordinate: 6\n",
    "      \n",
    "    40000:\n",
    "    - type: \"TemperatureEvent\"\n",
    "      therm: \"R1\"\n",
    "      temp: 21.0\n",
    "      humidity: 42.0\n",
    "      \n",
    "    50000: \n",
    "    - type: \"TemperatureEvent\"\n",
    "      therm: \"R2\"\n",
    "      temp: 23.0\n",
    "      humidity: 35.0\n",
    "      \n",
    "    53000: \n",
    "    - type: \"MovementDetection\"\n",
    "      camera: \"R2\"\n",
    "      xCoordinate: 7\n",
    "      yCoordinate: 8\n",
    "      \n",
    "    60000: \n",
    "    - type: \"TemperatureEvent\"\n",
    "      therm: \"R1\"\n",
    "      temp: 21.0\n",
    "      humidity: 40.0\n",
    "      \n",
    "    65000: \n",
    "    - type: \"MalfunctionEvent\"\n",
    "      camera: \"R2\"\n",
    "      log: \"500\"\n",
    "      \n",
    "    280000: \n",
    "    - type: \"TemperatureEvent\"\n",
    "      therm: \"R1\"\n",
    "      temp: 21.0\n",
    "      humidity: 40.0\n",
    "      \n",
    "    290000:  \n",
    "    - type: \"TemperatureEvent\"\n",
    "      therm: \"R2\"\n",
    "      temp: 45.0\n",
    "      humidity: 16.0"
   ]
  },
  {
   "cell_type": "code",
   "execution_count": 3,
   "id": "150b8d05",
   "metadata": {},
   "outputs": [
    {
     "data": {
      "text/plain": [
       "http://localhost:1234/final_output"
      ]
     },
     "metadata": {},
     "output_type": "display_data"
    }
   ],
   "source": [
    "%output\n",
    "gotcha"
   ]
  },
  {
   "cell_type": "code",
   "execution_count": null,
   "id": "11309fbb",
   "metadata": {},
   "outputs": [],
   "source": []
  }
 ],
 "metadata": {
  "kernelspec": {
   "display_name": "kEPLr",
   "language": "python",
   "name": "keplr_kernel"
  },
  "language_info": {
   "extension": ".py",
   "mimetype": "text/plain",
   "name": "kEPLr"
  }
 },
 "nbformat": 4,
 "nbformat_minor": 5
}
