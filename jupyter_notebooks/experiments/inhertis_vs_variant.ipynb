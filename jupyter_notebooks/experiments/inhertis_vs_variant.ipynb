{
 "cells": [
  {
   "cell_type": "markdown",
   "metadata": {
    "test": "test"
   },
   "source": [
    "# Title"
   ]
  },
  {
   "cell_type": "code",
   "execution_count": 7,
   "metadata": {},
   "outputs": [
    {
     "data": {
      "text/plain": [
       "Query file created."
      ]
     },
     "metadata": {},
     "output_type": "display_data"
    }
   ],
   "source": [
    "create schema Shot as (type string, player string); \n",
    "create schema thPointer as (distance int)\n",
    "inherits Shot; \n",
    "create schema twPointer as (jumpshot bool) \n",
    "inherits Shot;\n",
    "\n",
    "@name('Prova')select distance? from Shot; "
   ]
  },
  {
   "cell_type": "code",
   "execution_count": 9,
   "metadata": {},
   "outputs": [
    {
     "data": {
      "text/plain": [
       "Input file created."
      ]
     },
     "metadata": {},
     "output_type": "display_data"
    }
   ],
   "source": [
    "%input\n",
    "inputs:\n",
    "    0 :\n",
    "      - type: \"thPointer\"\n",
    "        player: \"Lebron\"\n",
    "        distance: 4\n",
    "      - type: \"twPointer\"\n",
    "        player: \"Lebron\"\n",
    "        jumpshot: true\n",
    "      - type: \"Shot\"\n",
    "        player: \"Lebron\"\n",
    "    \n",
    "      "
   ]
  },
  {
   "cell_type": "code",
   "execution_count": 10,
   "metadata": {},
   "outputs": [
    {
     "data": {
      "text/plain": [
       "http://localhost:1234/final_output"
      ]
     },
     "metadata": {},
     "output_type": "display_data"
    }
   ],
   "source": [
    "%output\n",
    "gotcha"
   ]
  },
  {
   "cell_type": "markdown",
   "metadata": {},
   "source": [
    "## CONSIDERATIONS\n",
    "\n",
    "### NO DIFFERENCE FOUND\n",
    "```\n",
    "@name('Prova')select distance from Shot; \n",
    "```\n",
    "The above query is not possible here since the 'distance' attribute is not inside the original event,\n",
    "if instead we use a _variant stream_ we **could extract the 'distance' property** treating it as a dynamic property, but this **can be done also with inherited events as above**.\n",
    "\n",
    "#### INHERITED STREAMS ARE ALMOST A SUPER SET OF THE VARIANT STREAMS\n",
    "\n",
    "I said almost since the only possibility that a variant stream gives is to use _any_ keyword, that creates a variant stream with all the possible streams. Inherited streams should be inherited individually by every single streams."
   ]
  }
 ],
 "metadata": {
  "celltoolbar": "Edit Metadata",
  "kernelspec": {
   "display_name": "kEPLr",
   "language": "python",
   "name": "keplr_kernel"
  },
  "language_info": {
   "extension": ".py",
   "mimetype": "text/plain",
   "name": "kEPLr"
  }
 },
 "nbformat": 4,
 "nbformat_minor": 2
}
