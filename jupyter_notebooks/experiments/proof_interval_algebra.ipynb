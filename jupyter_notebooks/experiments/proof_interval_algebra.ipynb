{
 "cells": [
  {
   "cell_type": "code",
   "execution_count": 38,
   "metadata": {},
   "outputs": [
    {
     "data": {
      "text/plain": [
       "Query file created and compiled."
      ]
     },
     "metadata": {},
     "output_type": "display_data"
    }
   ],
   "source": [
    "create schema C as (type string, id int, ts long, te long) starttimestamp ts endtimestamp te;\n",
    "create schema D as (type string, id int, ts long, te long) starttimestamp ts endtimestamp te;\n",
    "create schema A as (type string, id int, ts int, te int);\n",
    "create schema B as (type string, id int, ts int, te int);\n",
    "\n",
    "insert into C select type, id, ts as ts, te as te\n",
    "from A;\n",
    "insert into D select type, id, ts as ts, te as te\n",
    "from B;\n",
    "@name('Prova')select x.id, y.id\n",
    "from pattern[every x=C -> every y=D] as y where x.meets(y);\n",
    "\n"
   ]
  },
  {
   "cell_type": "code",
   "execution_count": 39,
   "metadata": {},
   "outputs": [
    {
     "data": {
      "text/plain": [
       "Input file created."
      ]
     },
     "metadata": {},
     "output_type": "display_data"
    }
   ],
   "source": [
    "%input\n",
    "inputs:\n",
    "        \n",
    "    1: \n",
    "    \n",
    "    - type: \"A\"\n",
    "      ts: 0\n",
    "      te: 1\n",
    "      id: 1\n",
    "    \n",
    "      \n",
    "    \n",
    "    2: \n",
    "    - type: \"B\"\n",
    "      ts: 1\n",
    "      te: 2\n",
    "      id: 2\n",
    "      \n",
    "    3: \n",
    "    - type: \"A\"\n",
    "      ts: 1\n",
    "      te: 3\n",
    "      id: 3\n",
    "    \n",
    "    4: \n",
    "    - type: \"A\"\n",
    "      ts: 2\n",
    "      te: 4\n",
    "      id: 4\n",
    "      \n",
    "    5: \n",
    "    - type: \"B\"\n",
    "      ts: 3\n",
    "      te: 5\n",
    "      id: 5\n",
    "        \n",
    "        \n",
    "    "
   ]
  },
  {
   "cell_type": "code",
   "execution_count": 40,
   "metadata": {
    "scrolled": true
   },
   "outputs": [
    {
     "data": {
      "text/plain": [
       "http://localhost:1234/final_output"
      ]
     },
     "metadata": {},
     "output_type": "display_data"
    }
   ],
   "source": [
    "%output\n",
    "gotcha"
   ]
  },
  {
   "cell_type": "markdown",
   "metadata": {},
   "source": [
    "## CONSIDERATIONS\n",
    "\n",
    "Applications of relational algebra to internal events **can be performed**.\n"
   ]
  },
  {
   "cell_type": "code",
   "execution_count": null,
   "metadata": {},
   "outputs": [],
   "source": []
  }
 ],
 "metadata": {
  "kernelspec": {
   "display_name": "kEPLr",
   "language": "python",
   "name": "keplr_kernel"
  },
  "language_info": {
   "extension": ".py",
   "mimetype": "text/plain",
   "name": "kEPLr"
  }
 },
 "nbformat": 4,
 "nbformat_minor": 2
}
