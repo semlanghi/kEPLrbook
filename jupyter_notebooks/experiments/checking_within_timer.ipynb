{
 "cells": [
  {
   "cell_type": "code",
   "execution_count": 4,
   "metadata": {},
   "outputs": [
    {
     "data": {
      "text/plain": [
       "Query file created and compiled."
      ]
     },
     "metadata": {},
     "output_type": "display_data"
    }
   ],
   "source": [
    "create schema Passage as (fr string, to string);\n",
    "create schema Jam as (player string); \n",
    "create schema StartEvent as (type string); \n",
    "\n",
    "@name('Prova')select a.fr from pattern [(every a=Passage) where timer:within(10 sec)]; \n"
   ]
  },
  {
   "cell_type": "code",
   "execution_count": 5,
   "metadata": {},
   "outputs": [
    {
     "data": {
      "text/plain": [
       "Input file created."
      ]
     },
     "metadata": {},
     "output_type": "display_data"
    }
   ],
   "source": [
    "%input\n",
    "inputs:\n",
    "\n",
    "    0:\n",
    "      - type: \"StartEvent\"\n",
    "        \n",
    "    9000: \n",
    "      - type: \"Jam\"\n",
    "        player: \"Jordan\"\n",
    "      - type: \"Passage\"\n",
    "        fr: \"Paul\"\n",
    "        to: \"Jordan\"\n",
    "        \n",
    "    12000: \n",
    "      - type: \"Passage\"\n",
    "        fr: \"Paul\"\n",
    "        to: \"Jordan\"\n",
    "        \n",
    "    15000: \n",
    "      - type: \"Jam\"\n",
    "        player: \"Jordan\"\n",
    "      - type: \"Passage\"\n",
    "        fr: \"Paul\"\n",
    "        to: \"Jordan\"\n",
    "    25000: \n",
    "      - type: \"Jam\"\n",
    "        player: \"Jordan\"\n",
    "      - type: \"Passage\"\n",
    "        fr: \"Paul\"\n",
    "        to: \"Jordan\"\n",
    "\n",
    "        \n",
    "    "
   ]
  },
  {
   "cell_type": "code",
   "execution_count": 3,
   "metadata": {},
   "outputs": [
    {
     "data": {
      "text/plain": [
       "http://localhost:1234/final_output"
      ]
     },
     "metadata": {},
     "output_type": "display_data"
    }
   ],
   "source": [
    "%output\n",
    "gotcha"
   ]
  },
  {
   "cell_type": "markdown",
   "metadata": {},
   "source": [
    "## CONSIDERATIONS\n",
    "\n",
    "```\n",
    "pattern [(every a=Passage) where timer:within(10 sec)]\n",
    "```\n",
    "\n",
    "this pattern is controlled in 10 seconds after which returns always false, from which point in time? The time of deployment\n",
    "\n",
    "```\n",
    "pattern [every a=Passage where timer:within(10 sec)]\n",
    "```\n",
    "\n",
    "this pattern instead restart also the timer every time an event arrives"
   ]
  }
 ],
 "metadata": {
  "kernelspec": {
   "display_name": "kEPLr",
   "language": "python",
   "name": "keplr_kernel"
  },
  "language_info": {
   "extension": ".py",
   "mimetype": "text/plain",
   "name": "kEPLr"
  }
 },
 "nbformat": 4,
 "nbformat_minor": 2
}
