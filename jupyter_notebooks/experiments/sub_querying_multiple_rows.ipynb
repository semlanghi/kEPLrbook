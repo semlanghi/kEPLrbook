{
 "cells": [
  {
   "cell_type": "code",
   "execution_count": 28,
   "metadata": {},
   "outputs": [
    {
     "data": {
      "text/plain": [
       "Query file created and compiled."
      ]
     },
     "metadata": {},
     "output_type": "display_data"
    }
   ],
   "source": [
    "create schema A as (type string, player string, hand string, id int);\n",
    "create schema B as (type string,fr string, to string, id int);\n",
    "create schema C as (type string, id int);\n",
    "create schema D as (type string, player string, id int);\n",
    "create schema F as (type string, id int);\n",
    "create schema Q as (type string, id int);\n",
    "\n",
    "\n",
    "@name('Prova')\n",
    "select id\n",
    "from A as a where (select id from B#time(3 milliseconds)) < id;\n",
    "\n"
   ]
  },
  {
   "cell_type": "code",
   "execution_count": 29,
   "metadata": {},
   "outputs": [
    {
     "data": {
      "text/plain": [
       "Input file created."
      ]
     },
     "metadata": {},
     "output_type": "display_data"
    }
   ],
   "source": [
    "%input\n",
    "inputs:\n",
    "        \n",
    "    1: \n",
    "    \n",
    "    - type: \"A\"\n",
    "      player: \"Harden\"\n",
    "      hand: \"sx\"\n",
    "      id: 1\n",
    "    \n",
    "      \n",
    "    \n",
    "    \n",
    "      \n",
    "    3: \n",
    "    - type: \"A\"\n",
    "      player: \"Capela\"\n",
    "      hand: \"sx\"\n",
    "      id: 2\n",
    "      \n",
    "    4: \n",
    "    - type: \"B\"\n",
    "      fr: \"Paul\"\n",
    "      to: \"Harden\"\n",
    "      id: 3\n",
    "      \n",
    "    \n",
    "    5: \n",
    "    - type: \"B\"\n",
    "      fr: \"Paul\"\n",
    "      to: \"Harden\"\n",
    "      id: 4 \n",
    "    \n",
    "    6: \n",
    "    \n",
    "    - type: \"A\"\n",
    "      player: \"Harden\"\n",
    "      hand: \"sx\"\n",
    "      id: 6\n",
    "      \n",
    "    \n",
    "      \n",
    "    11: \n",
    "    \n",
    "    - type: \"A\"\n",
    "      player: \"Harden\"\n",
    "      hand: \"sx\"\n",
    "      id: 11\n",
    "    \n",
    "    13: \n",
    "    - type: \"B\"\n",
    "      fr: \"Paul\"\n",
    "      to: \"Harden\"\n",
    "      id: 13\n",
    "      \n",
    "    14: \n",
    "    \n",
    "    - type: \"A\"\n",
    "      player: \"Harden\"\n",
    "      hand: \"sx\"\n",
    "      id: 14\n",
    "        \n",
    "        \n",
    "    "
   ]
  },
  {
   "cell_type": "code",
   "execution_count": 30,
   "metadata": {},
   "outputs": [
    {
     "data": {
      "text/plain": [
       "http://localhost:1234/final_output"
      ]
     },
     "metadata": {},
     "output_type": "display_data"
    }
   ],
   "source": [
    "%output\n",
    "gotcha"
   ]
  },
  {
   "cell_type": "code",
   "execution_count": 16,
   "metadata": {
    "scrolled": true
   },
   "outputs": [
    {
     "data": {
      "text/plain": [
       "http://localhost:1234/final_output"
      ]
     },
     "metadata": {},
     "output_type": "display_data"
    }
   ],
   "source": [
    "%output\n",
    "inputs:\n",
    "        \n",
    "    2: \n",
    "    \n",
    "    - x.id: 1\n",
    "      y.id: 2\n",
    "      \n",
    "    8:\n",
    "    - x.id: 3\n",
    "      y.id: 8\n",
    "      \n",
    "    13:\n",
    "    - x.id: 11\n",
    "      y.id: 13\n",
    "    "
   ]
  },
  {
   "cell_type": "markdown",
   "metadata": {},
   "source": [
    "## CONSIDERATIONS\n",
    "\n",
    "Sub querys can return one or multiple lines, must be used with a window inside the from clause, or at least a join. \n",
    "However, **when they returns multiple events, the return value considered by the outer query is \"null\"**.\n",
    "\n",
    "This is valid only when used together with normal operators, if instead used with EXISTS or IN inside the _where_ clause, the other row returned can be referenced to the definition of the truth value of the expression."
   ]
  },
  {
   "cell_type": "code",
   "execution_count": null,
   "metadata": {},
   "outputs": [],
   "source": []
  }
 ],
 "metadata": {
  "kernelspec": {
   "display_name": "kEPLr",
   "language": "python",
   "name": "keplr_kernel"
  },
  "language_info": {
   "extension": ".py",
   "mimetype": "text/plain",
   "name": "kEPLr"
  }
 },
 "nbformat": 4,
 "nbformat_minor": 2
}
