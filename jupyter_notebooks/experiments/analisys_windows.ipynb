{
 "cells": [
  {
   "cell_type": "code",
   "execution_count": 20,
   "metadata": {},
   "outputs": [
    {
     "data": {
      "text/plain": [
       "Query file created and compiled."
      ]
     },
     "metadata": {},
     "output_type": "display_data"
    }
   ],
   "source": [
    "create schema Passage as (type string,fr string, to string);\n",
    "create schema BallContact as (type string, player string, hand string);\n",
    "create schema Shot as (distance int) inherits BallContact; \n",
    "create schema Interruption as (type string);\n",
    "create schema Out as (posx float, posy float) inherits Interruption; \n",
    "create schema Foul as (player string, victim string) inherits Interruption; \n",
    "\n",
    "create table ScoreBoard as (assists int primary key, name string); \n",
    "\n",
    "create variable long record; \n",
    "\n",
    "insert into Result\n",
    "select * from Shot#time(100 milliseconds) as ws, BallContact#time(100 milliseconds) as bc where ws.player = bc.player;\n",
    "\n",
    "@name('Prova')select sum(ws.distance) from Result;"
   ]
  },
  {
   "cell_type": "code",
   "execution_count": 21,
   "metadata": {},
   "outputs": [
    {
     "data": {
      "text/plain": [
       "Input file created."
      ]
     },
     "metadata": {},
     "output_type": "display_data"
    }
   ],
   "source": [
    "%input\n",
    "inputs:\n",
    "        \n",
    "    0: \n",
    "    - type: \"Passage\"\n",
    "      fr: \"Paul\"\n",
    "      to: \"Harden\"\n",
    "      \n",
    "    1: \n",
    "    - type: \"BallContact\"\n",
    "      player: \"Harden\"\n",
    "      hand: \"dx\"\n",
    "    \n",
    "    50: \n",
    "    - type: \"BallContact\"\n",
    "      player: \"Harden\"\n",
    "      hand: \"sx\"\n",
    "      \n",
    "    100: \n",
    "    - type: \"BallContact\"\n",
    "      player: \"Harden\"\n",
    "      hand: \"sx\"\n",
    "    \n",
    "    150: \n",
    "    - type: \"Shot\"\n",
    "      player: \"Harden\"\n",
    "      hand: \"sx\"\n",
    "      distance: 26\n",
    "      \n",
    "    250:\n",
    "    - type: \"BallContact\"\n",
    "      player: \"Capela\"\n",
    "      hand: \"sx\"\n",
    "     \n",
    "    350: \n",
    "    - type: \"Passage\"\n",
    "      fr: \"Capela\"\n",
    "      to: \"Harden\"\n",
    "      \n",
    "    450: \n",
    "    - type: \"Shot\"\n",
    "      player: \"Harden\"\n",
    "      hand: \"sx\"\n",
    "      distance: 27\n",
    "      \n",
    "    550: \n",
    "    - type: \"Passage\"\n",
    "      fr: \"Capela\"\n",
    "      to: \"Harden\"\n",
    "      \n",
    "    650: \n",
    "    - type: \"Shot\"\n",
    "      player: \"Harden\"\n",
    "      hand: \"sx\"\n",
    "      distance: 25\n",
    "        \n",
    "    \n",
    "        \n",
    "        \n",
    "    "
   ]
  },
  {
   "cell_type": "code",
   "execution_count": 6,
   "metadata": {},
   "outputs": [
    {
     "data": {
      "text/plain": [
       "http://localhost:1234/final_output"
      ]
     },
     "metadata": {},
     "output_type": "display_data"
    }
   ],
   "source": [
    "%output\n",
    "gotcha"
   ]
  },
  {
   "cell_type": "markdown",
   "metadata": {},
   "source": [
    "## CONSIDERATIONS\n",
    "\n",
    "```\n",
    "pattern [(every a=Passage) where timer:within(10 sec)]\n",
    "```\n",
    "\n",
    "this pattern is controlled in 10 seconds after which returns always false, from which point in time? The time of deployment\n",
    "\n",
    "```\n",
    "pattern [every a=Passage where timer:within(10 sec)]\n",
    "```\n",
    "\n",
    "this pattern instead restart also the timer every time an event arrives"
   ]
  }
 ],
 "metadata": {
  "kernelspec": {
   "display_name": "kEPLr",
   "language": "python",
   "name": "keplr_kernel"
  },
  "language_info": {
   "extension": ".py",
   "mimetype": "text/plain",
   "name": "kEPLr"
  }
 },
 "nbformat": 4,
 "nbformat_minor": 2
}
