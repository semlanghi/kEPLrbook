{
 "cells": [
  {
   "cell_type": "code",
   "execution_count": 9,
   "metadata": {},
   "outputs": [
    {
     "data": {
      "text/plain": [
       "Query file created."
      ]
     },
     "metadata": {},
     "output_type": "display_data"
    }
   ],
   "source": [
    "create schema Passage as (fr string, to string);\n",
    "create schema Jam as (player string); \n",
    "\n",
    "@name('Prova')select a.fr from pattern [every a=Passage -[1]> b=Jam]; \n"
   ]
  },
  {
   "cell_type": "code",
   "execution_count": 10,
   "metadata": {},
   "outputs": [
    {
     "data": {
      "text/plain": [
       "Input file created."
      ]
     },
     "metadata": {},
     "output_type": "display_data"
    }
   ],
   "source": [
    "%input\n",
    "inputs:\n",
    "    0: \n",
    "      - type: \"Passage\"\n",
    "        fr: \"Paul\"\n",
    "        to: \"Jordan\"\n",
    "        \n",
    "    500: \n",
    "      \n",
    "\n",
    "      - type: \"Jam\"\n",
    "        player: \"Jordan\"\n",
    "      - type: \"Passage\"\n",
    "        fr: \"Paul\"\n",
    "        to: \"Jordan\"\n",
    "      - type: \"Jam\"\n",
    "        player: \"Jordan\"\n",
    "\n",
    "        \n",
    "    "
   ]
  },
  {
   "cell_type": "code",
   "execution_count": 11,
   "metadata": {},
   "outputs": [
    {
     "data": {
      "text/plain": [
       "http://localhost:1234/final_output"
      ]
     },
     "metadata": {},
     "output_type": "display_data"
    }
   ],
   "source": [
    "%output\n",
    "gotcha"
   ]
  },
  {
   "cell_type": "markdown",
   "metadata": {},
   "source": [
    "## CONSIDERATIONS\n",
    "\n",
    "### LIMITING THE FILTERS DOES NOT OUTPUT ONE OF THE MATCHES"
   ]
  }
 ],
 "metadata": {
  "kernelspec": {
   "display_name": "kEPLr",
   "language": "python",
   "name": "keplr_kernel"
  },
  "language_info": {
   "extension": ".py",
   "mimetype": "text/plain",
   "name": "kEPLr"
  }
 },
 "nbformat": 4,
 "nbformat_minor": 2
}
