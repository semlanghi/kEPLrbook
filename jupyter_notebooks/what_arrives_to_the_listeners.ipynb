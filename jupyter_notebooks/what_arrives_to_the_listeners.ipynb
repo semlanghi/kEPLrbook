{
 "cells": [
  {
   "cell_type": "code",
   "execution_count": 14,
   "metadata": {},
   "outputs": [
    {
     "data": {
      "text/plain": [
       "Query file created."
      ]
     },
     "metadata": {},
     "output_type": "display_data"
    }
   ],
   "source": [
    "create schema Passage as (fr string, to string);\n",
    "create schema Jam as (player string); \n",
    "\n",
    "@name('Prova')select a.fr from pattern [every a=Passage ->\n",
    "b=Jam where timer:within(1 sec)]; \n"
   ]
  },
  {
   "cell_type": "code",
   "execution_count": 15,
   "metadata": {},
   "outputs": [
    {
     "data": {
      "text/plain": [
       "Input file created."
      ]
     },
     "metadata": {},
     "output_type": "display_data"
    }
   ],
   "source": [
    "%input\n",
    "inputs:\n",
    "    0: \n",
    "      - type: \"Passage\"\n",
    "        fr: \"Paul\"\n",
    "        to: \"Jordan\"\n",
    "        \n",
    "    500: \n",
    "      - type: \"Passage\"\n",
    "        fr: \"Paul\"\n",
    "        to: \"Jordan\"\n",
    "\n",
    "      - type: \"Jam\"\n",
    "        player: \"Jordan\"\n",
    "\n",
    "        \n",
    "    "
   ]
  },
  {
   "cell_type": "code",
   "execution_count": 16,
   "metadata": {},
   "outputs": [
    {
     "data": {
      "text/plain": [
       "http://localhost:1234/final_output"
      ]
     },
     "metadata": {},
     "output_type": "display_data"
    }
   ],
   "source": [
    "%output\n",
    "gotcha"
   ]
  },
  {
   "cell_type": "markdown",
   "metadata": {},
   "source": [
    "## CONSIDERATIONS\n",
    "\n",
    "### PATTERN WITH MULTIPLE EVENT TRIGGER WILL RETURN THOSE EVENTS, ALL IN A HASHMAP STRUCTURE WITH NAME AS THE TAGS OF THE EVENTS"
   ]
  }
 ],
 "metadata": {
  "kernelspec": {
   "display_name": "kEPLr",
   "language": "python",
   "name": "keplr_kernel"
  },
  "language_info": {
   "extension": ".py",
   "mimetype": "text/plain",
   "name": "kEPLr"
  }
 },
 "nbformat": 4,
 "nbformat_minor": 2
}
