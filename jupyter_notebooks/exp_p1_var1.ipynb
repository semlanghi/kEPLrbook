{
 "cells": [
  {
   "cell_type": "code",
   "execution_count": 41,
   "metadata": {},
   "outputs": [
    {
     "data": {
      "text/plain": [
       "Query file created and compiled."
      ]
     },
     "metadata": {},
     "output_type": "display_data"
    }
   ],
   "source": [
    "create schema A as (type string, player string, hand string, id int);\n",
    "create schema B as (type string,fr string, to string, id int);\n",
    "create schema C as (type string, id int);\n",
    "create schema D as (type string, player string, id int);\n",
    "create schema F as (type string, id int);\n",
    "create schema Q as (type string, id int);\n",
    "\n",
    "\n",
    "@name('Prova')select x.id, y.id \n",
    "from pattern[every(x=A -> y=B)] output every 12 milliseconds;\n",
    "\n"
   ]
  },
  {
   "cell_type": "code",
   "execution_count": 42,
   "metadata": {},
   "outputs": [
    {
     "data": {
      "text/plain": [
       "Input file created."
      ]
     },
     "metadata": {},
     "output_type": "display_data"
    }
   ],
   "source": [
    "%input\n",
    "inputs:\n",
    "   \n",
    "    1: \n",
    "    \n",
    "    - type: \"A\"\n",
    "      player: \"Harden\"\n",
    "      hand: \"sx\"\n",
    "      id: 1\n",
    "    \n",
    "      \n",
    "    \n",
    "    2: \n",
    "    - type: \"B\"\n",
    "      fr: \"Paul\"\n",
    "      to: \"Harden\"\n",
    "      id: 2\n",
    "      \n",
    "    3: \n",
    "    - type: \"A\"\n",
    "      player: \"Capela\"\n",
    "      hand: \"sx\"\n",
    "      id: 3\n",
    "      \n",
    "    4: \n",
    "    - type: \"C\"\n",
    "      id: 4\n",
    "      \n",
    "    5:\n",
    "    - type: \"D\"\n",
    "      player: \"Harden\"\n",
    "      id: 5\n",
    "      \n",
    "    \n",
    "    6: \n",
    "    \n",
    "    - type: \"A\"\n",
    "      player: \"Harden\"\n",
    "      hand: \"sx\"\n",
    "      id: 6\n",
    "      \n",
    "    7: \n",
    "    - type: \"F\"\n",
    "      id: 7\n",
    "      \n",
    "    8: \n",
    "    - type: \"B\"\n",
    "      fr: \"Paul\"\n",
    "      to: \"Harden\"\n",
    "      id: 8\n",
    "      \n",
    "      \n",
    "    9:\n",
    "    - type: \"D\"\n",
    "      player: \"Harden\"\n",
    "      id: 9\n",
    "    10: \n",
    "    - type: \"Q\"\n",
    "      id: 10\n",
    "      \n",
    "    11: \n",
    "    \n",
    "    - type: \"A\"\n",
    "      player: \"Harden\"\n",
    "      hand: \"sx\"\n",
    "      id: 11\n",
    "    12: \n",
    "    - type: \"C\"\n",
    "      id: 12\n",
    "    13: \n",
    "    - type: \"B\"\n",
    "      fr: \"Paul\"\n",
    "      to: \"Harden\"\n",
    "      id: 13 \n",
    "    \n",
    "    14: \n",
    "    - type: \"B\"\n",
    "      fr: \"Paul\"\n",
    "      to: \"Harden\"\n",
    "      id: 14\n",
    "        \n",
    "    "
   ]
  },
  {
   "cell_type": "code",
   "execution_count": 44,
   "metadata": {
    "scrolled": true
   },
   "outputs": [
    {
     "data": {
      "text/plain": [
       "http://localhost:1234/final_output"
      ]
     },
     "metadata": {},
     "output_type": "display_data"
    }
   ],
   "source": [
    "%output\n",
    "inputs:\n",
    "      \n",
    "    14:\n",
    "    - x.id: 1\n",
    "      y.id: 2\n",
    "    - x.id: 3\n",
    "      y.id: 8\n",
    "    - x.id: 11\n",
    "      y.id: 13"
   ]
  },
  {
   "cell_type": "markdown",
   "metadata": {},
   "source": [
    "## CONSIDERATIONS\n",
    "\n",
    "First part of the experiment: the pattern returns the consecutive couples (A -> B) so {(1,2),(3,8),(11,13)}.\n"
   ]
  },
  {
   "cell_type": "code",
   "execution_count": null,
   "metadata": {},
   "outputs": [],
   "source": []
  }
 ],
 "metadata": {
  "kernelspec": {
   "display_name": "kEPLr",
   "language": "python",
   "name": "keplr_kernel"
  },
  "language_info": {
   "extension": ".py",
   "mimetype": "text/plain",
   "name": "kEPLr"
  }
 },
 "nbformat": 4,
 "nbformat_minor": 2
}
