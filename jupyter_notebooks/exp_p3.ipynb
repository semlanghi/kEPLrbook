{
 "cells": [
  {
   "cell_type": "code",
   "execution_count": 30,
   "metadata": {},
   "outputs": [
    {
     "data": {
      "text/plain": [
       "Query file created and compiled."
      ]
     },
     "metadata": {},
     "output_type": "display_data"
    }
   ],
   "source": [
    "create schema A as (type string, player string, hand string, id int);\n",
    "create schema B as (type string,fr string, to string, id int);\n",
    "create schema C as (type string, id int);\n",
    "create schema D as (type string, player string, id int);\n",
    "create schema F as (type string, id int);\n",
    "create schema Q as (type string, id int);\n",
    "\n",
    "\n",
    "@name('Prova')select x.id, y.id \n",
    "from pattern[x=A -> y=B] output last every 2 events;\n",
    "\n"
   ]
  },
  {
   "cell_type": "code",
   "execution_count": 31,
   "metadata": {},
   "outputs": [
    {
     "data": {
      "text/plain": [
       "Input file created."
      ]
     },
     "metadata": {},
     "output_type": "display_data"
    }
   ],
   "source": [
    "%input\n",
    "inputs:\n",
    "        \n",
    "    1: \n",
    "    \n",
    "    - type: \"A\"\n",
    "      player: \"Harden\"\n",
    "      hand: \"sx\"\n",
    "      id: 1\n",
    "    \n",
    "      \n",
    "    \n",
    "    2: \n",
    "    - type: \"B\"\n",
    "      fr: \"Paul\"\n",
    "      to: \"Harden\"\n",
    "      id: 2\n",
    "    \n",
    "    3: \n",
    "    - type: \"A\"\n",
    "      player: \"Capela\"\n",
    "      hand: \"sx\"\n",
    "      id: 3\n",
    "      \n",
    "    4: \n",
    "    - type: \"C\"\n",
    "      id: 4\n",
    "      \n",
    "    5:\n",
    "    - type: \"D\"\n",
    "      player: \"Harden\"\n",
    "      id: 5\n",
    "      \n",
    "    \n",
    "    6: \n",
    "    \n",
    "    - type: \"A\"\n",
    "      player: \"Harden\"\n",
    "      hand: \"sx\"\n",
    "      id: 6\n",
    "      \n",
    "    7: \n",
    "    - type: \"F\"\n",
    "      id: 7\n",
    "      \n",
    "    8: \n",
    "    - type: \"B\"\n",
    "      fr: \"Paul\"\n",
    "      to: \"Harden\"\n",
    "      id: 8\n",
    "      \n",
    "      \n",
    "\n",
    "        \n",
    "        \n",
    "    "
   ]
  },
  {
   "cell_type": "code",
   "execution_count": 32,
   "metadata": {
    "scrolled": true
   },
   "outputs": [
    {
     "data": {
      "text/plain": [
       "http://localhost:1234/final_output"
      ]
     },
     "metadata": {},
     "output_type": "display_data"
    }
   ],
   "source": [
    "%output\n",
    "inputs:\n",
    "      \n",
    "    8:\n",
    "    - x.id: 3\n",
    "      y.id: 8\n"
   ]
  },
  {
   "cell_type": "markdown",
   "metadata": {},
   "source": [
    "## CONSIDERATIONS\n",
    "\n",
    "Third part of the experiment: the pattern should return {(3,8)}.\n",
    "\n",
    "Result of the experiment: ***NOT CORRECT***\n",
    "\n",
    "To make it correct:\n",
    "- removing from the input stream all the events arrived before the start of our expected event, in this case til time 3, so events with id 1 and 2 will be removed\n",
    "- using the EVERY keyword in the pattern\n"
   ]
  },
  {
   "cell_type": "code",
   "execution_count": null,
   "metadata": {},
   "outputs": [],
   "source": []
  }
 ],
 "metadata": {
  "kernelspec": {
   "display_name": "kEPLr",
   "language": "python",
   "name": "keplr_kernel"
  },
  "language_info": {
   "extension": ".py",
   "mimetype": "text/plain",
   "name": "kEPLr"
  }
 },
 "nbformat": 4,
 "nbformat_minor": 2
}
