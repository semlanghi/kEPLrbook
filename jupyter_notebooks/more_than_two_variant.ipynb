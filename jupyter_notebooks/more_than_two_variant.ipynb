{
 "cells": [
  {
   "cell_type": "code",
   "execution_count": 1,
   "metadata": {},
   "outputs": [
    {
     "data": {
      "text/plain": [
       "Query file created."
      ]
     },
     "metadata": {},
     "output_type": "display_data"
    }
   ],
   "source": [
    "create schema thPointer as (type string, player string); \n",
    "create schema twPointer as (type string, player string); \n",
    "create schema PostShot as (type string, player string, against string); \n",
    "create variant schema Shot as thPointer, twPointer, PostShot; \n",
    "\n",
    "insert into Shot select * from thPointer; \n",
    "insert into Shot select * from twPointer; \n",
    "insert into Shot select * from PostShot; \n",
    "\n",
    "\n",
    "\n",
    "@name('Prova')select * from Shot; "
   ]
  },
  {
   "cell_type": "code",
   "execution_count": 2,
   "metadata": {},
   "outputs": [
    {
     "data": {
      "text/plain": [
       "Input file created."
      ]
     },
     "metadata": {},
     "output_type": "display_data"
    }
   ],
   "source": [
    "%input\n",
    "inputs:\n",
    "    0 :\n",
    "      - type: \"thPointer\"\n",
    "        player: \"Lebron\"\n",
    "      - type: \"twPointer\"\n",
    "        player: \"Lebron\"\n",
    "      - type: \"PostShot\"\n",
    "        player: \"Lebron\"\n",
    "        against: \"Beverley\"\n",
    "    \n",
    "      "
   ]
  },
  {
   "cell_type": "code",
   "execution_count": 3,
   "metadata": {},
   "outputs": [
    {
     "data": {
      "text/plain": [
       "http://localhost:1234/final_output"
      ]
     },
     "metadata": {},
     "output_type": "display_data"
    }
   ],
   "source": [
    "%output\n",
    "gotcha"
   ]
  },
  {
   "cell_type": "markdown",
   "metadata": {},
   "source": [
    "## CONSIDERATIONS\n",
    "\n",
    "### USING MORE THAN 2 STREAMS IS POSSIBLE "
   ]
  }
 ],
 "metadata": {
  "kernelspec": {
   "display_name": "kEPLr",
   "language": "python",
   "name": "keplr_kernel"
  },
  "language_info": {
   "extension": ".py",
   "mimetype": "text/plain",
   "name": "kEPLr"
  }
 },
 "nbformat": 4,
 "nbformat_minor": 2
}
