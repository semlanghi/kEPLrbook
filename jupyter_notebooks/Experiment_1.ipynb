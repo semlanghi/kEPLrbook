{
 "cells": [
  {
   "cell_type": "code",
   "execution_count": 4,
   "metadata": {},
   "outputs": [
    {
     "data": {
      "text/plain": [
       "<html><body><h2>500 Internal Server Error</h2></body></html>"
      ]
     },
     "metadata": {},
     "output_type": "display_data"
    }
   ],
   "source": [
    "create schema NbaGamer as (type string, id int, awayTeam string, homeTeam string); \n",
    "@name('Prova')select * from NbaGamer; "
   ]
  },
  {
   "cell_type": "code",
   "execution_count": 5,
   "metadata": {},
   "outputs": [
    {
     "data": {
      "text/plain": [
       "Input file created."
      ]
     },
     "metadata": {},
     "output_type": "display_data"
    }
   ],
   "source": [
    "%input\n",
    "inputs:\n",
    "    0 :\n",
    "      - type: \"NbaGamer\"\n",
    "        id: 1\n",
    "        awayTeam: \"Sacramento Kings\"\n",
    "        homeTeam: \"New York Knicks\" \n",
    "    \n",
    "    1000 :\n",
    "      - type: \"NbaGamer\"\n",
    "        id: 2\n",
    "        awayTeam: \"Sacramento Kings\"\n",
    "        homeTeam: \"New York Knicks\"\n",
    "      \n",
    "      - type: \"NbaGamer\"\n",
    "        id: 3\n",
    "        awayTeam: \"Sacramento Kings\"\n",
    "        homeTeam: \"New York Knicks\"\n",
    "      \n",
    "      "
   ]
  },
  {
   "cell_type": "code",
   "execution_count": 3,
   "metadata": {},
   "outputs": [
    {
     "data": {
      "text/plain": [
       "http://localhost:1234/final_output"
      ]
     },
     "metadata": {},
     "output_type": "display_data"
    }
   ],
   "source": [
    "%output\n",
    "inputs:\n",
    "    0 :\n",
    "      - type: \"NbaGamer\"\n",
    "        id: 1\n",
    "        awayTeam: \"Sacramento Kings\"\n",
    "        homeTeam: \"New York Knicks\" \n",
    "    \n",
    "    1000 :\n",
    "      - type: \"NbaGamer\"\n",
    "        id: 2\n",
    "        awayTeam: \"Sacramento Kings\"\n",
    "        homeTeam: \"New York Knicks\"\n",
    "      \n",
    "      - type: \"NbaGamer\"\n",
    "        id: 3\n",
    "        awayTeam: \"Sacramento Kings\"\n",
    "        homeTeam: \"New York Knicks\""
   ]
  },
  {
   "cell_type": "code",
   "execution_count": null,
   "metadata": {},
   "outputs": [],
   "source": []
  }
 ],
 "metadata": {
  "kernelspec": {
   "display_name": "kEPLr",
   "language": "python",
   "name": "keplr_kernel"
  },
  "language_info": {
   "extension": ".py",
   "mimetype": "text/plain",
   "name": "kEPLr"
  }
 },
 "nbformat": 4,
 "nbformat_minor": 2
}
