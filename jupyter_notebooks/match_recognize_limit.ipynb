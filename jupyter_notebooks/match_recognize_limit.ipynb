{
 "cells": [
  {
   "cell_type": "markdown",
   "metadata": {},
   "source": [
    "## Match_Recognize Limit, in terms of consequence"
   ]
  },
  {
   "cell_type": "code",
   "execution_count": 2,
   "metadata": {},
   "outputs": [
    {
     "data": {
      "text/plain": [
       "Problem with the compilation."
      ]
     },
     "metadata": {},
     "output_type": "display_data"
    }
   ],
   "source": [
    "create schema Passage as (type string,fr string, to string);\n",
    "create schema BallContact as (type string, player string, hand string, num int);\n",
    "create schema Shot as (meter_distance int) inherits BallContact; \n",
    "create schema Interruption as (type string);\n",
    "create schema Out as (posx float, posy float) inherits Interruption; \n",
    "create schema Foul as (player string, victim string) inherits Interruption; \n",
    "\n",
    "\n",
    "\n",
    "@name('Prova')select sum(num) from BallContact\n",
    "match_recognize(\n",
    "measures A.player as player, A.hand as hand\n",
    "after match skip past last row\n",
    "pattern (A B)\n",
    "define \n",
    "    A as B.player=A.player)"
   ]
  },
  {
   "cell_type": "code",
   "execution_count": 3,
   "metadata": {},
   "outputs": [
    {
     "data": {
      "text/plain": [
       "Input file created."
      ]
     },
     "metadata": {},
     "output_type": "display_data"
    }
   ],
   "source": [
    "%input\n",
    "inputs:\n",
    "        \n",
    "    0: \n",
    "    - type: \"Passage\"\n",
    "      fr: \"Paul\"\n",
    "      to: \"Harden\"\n",
    "      \n",
    "    1: \n",
    "    - type: \"BallContact\"\n",
    "      player: \"Harden\"\n",
    "      hand: \"dx\"\n",
    "      num: 1\n",
    "    - type: \"Passage\"\n",
    "      fr: \"Capela\"\n",
    "      to: \"Harden\"\n",
    "    \n",
    "    50: \n",
    "    - type: \"BallContact\"\n",
    "      player: \"Harden\"\n",
    "      hand: \"sx\"\n",
    "      num: 2\n",
    "      \n",
    "    100: \n",
    "    - type: \"BallContact\"\n",
    "      player: \"Harden\"\n",
    "      hand: \"sx\"\n",
    "      num: 3\n",
    "    - type: \"Passage\"\n",
    "      fr: \"Capela\"\n",
    "      to: \"Harden\"\n",
    "    \n",
    "    150: \n",
    "    - type: \"Shot\"\n",
    "      player: \"Harden\"\n",
    "      hand: \"sx\"\n",
    "      distance: \"27\"\n",
    "      num: 4\n",
    "      \n",
    "    250:\n",
    "    - type: \"BallContact\"\n",
    "      player: \"Capela\"\n",
    "      hand: \"sx\"\n",
    "      num: 1\n",
    "     \n",
    "    350: \n",
    "    - type: \"Passage\"\n",
    "      fr: \"Capela\"\n",
    "      to: \"Harden\"\n",
    "      \n",
    "    450: \n",
    "    - type: \"Shot\"\n",
    "      player: \"Harden\"\n",
    "      hand: \"sx\"\n",
    "      distance: \"27\"\n",
    "      num: 5\n",
    "      \n",
    "    550: \n",
    "    - type: \"Passage\"\n",
    "      fr: \"Capela\"\n",
    "      to: \"Harden\"\n",
    "      \n",
    "    650: \n",
    "    - type: \"Shot\"\n",
    "      player: \"Harden\"\n",
    "      hand: \"sx\"\n",
    "      distance: \"27\"\n",
    "      num: 6"
   ]
  },
  {
   "cell_type": "code",
   "execution_count": 4,
   "metadata": {},
   "outputs": [
    {
     "data": {
      "text/plain": [
       "http://localhost:1234/final_output"
      ]
     },
     "metadata": {},
     "output_type": "display_data"
    }
   ],
   "source": [
    "%output\n",
    "gotcha"
   ]
  },
  {
   "cell_type": "markdown",
   "metadata": {},
   "source": [
    "# Exception thrown\n",
    "\n",
    "com.espertech.esper.compiler.client.EPCompileException: \n",
    "\n",
    "Failed to validate condition expression for variable 'A': \n",
    "\n",
    "Failed to validate match-recognize define expression 'B.player=A.player': \n",
    "\n",
    "*Failed to find a stream named 'B' (did you mean 'A'?)*\n",
    "\n",
    "[@name('Prova')select sum(num) from BallContact match_recognize( measures A.player as player, A.hand as hand pattern (A B) define      A as B.player=A.player)]\n"
   ]
  },
  {
   "cell_type": "code",
   "execution_count": null,
   "metadata": {},
   "outputs": [],
   "source": []
  }
 ],
 "metadata": {
  "kernelspec": {
   "display_name": "kEPLr",
   "language": "python",
   "name": "keplr_kernel"
  },
  "language_info": {
   "extension": ".py",
   "mimetype": "text/plain",
   "name": "kEPLr"
  }
 },
 "nbformat": 4,
 "nbformat_minor": 2
}
