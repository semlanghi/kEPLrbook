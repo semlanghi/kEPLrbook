{
 "cells": [
  {
   "cell_type": "code",
   "execution_count": 4,
   "id": "7c03d116",
   "metadata": {},
   "outputs": [
    {
     "data": {
      "text/plain": [
       "Query file created and compiled."
      ]
     },
     "metadata": {},
     "output_type": "display_data"
    }
   ],
   "source": [
    "CREATE SCHEMA CameraEvent (camera string);\n",
    "CREATE SCHEMA Movement (xCoor int, yCoor int)\n",
    "INHERITS CameraEvent;\n",
    "CREATE SCHEMA Error (log string)\n",
    "INHERITS CameraEvent;\n",
    "CREATE SCHEMA Smoke (sensor string);\n",
    "CREATE SCHEMA ThermRead (therm string,\n",
    "temp double, humidity double);\n",
    "\n",
    "\n",
    "@name('Prova')SELECT * FROM Smoke#win:time(5 minutes),\n",
    "                            ThermRead#win:time(5 minutes)\n",
    "WHERE sensor=therm AND temp>40 AND humidity<20;"
   ]
  },
  {
   "cell_type": "code",
   "execution_count": 5,
   "id": "32970cfc",
   "metadata": {},
   "outputs": [
    {
     "data": {
      "text/plain": [
       "Input file created."
      ]
     },
     "metadata": {},
     "output_type": "display_data"
    }
   ],
   "source": [
    "%input\n",
    "inputs:\n",
    "        \n",
    "    0: \n",
    "    - type: \"ThermRead\"\n",
    "      therm: \"R1\"\n",
    "      temp: 21.0\n",
    "      humidity: 40.0\n",
    "    \n",
    "    10000: \n",
    "    - type: \"ThermRead\"\n",
    "      therm: \"R2\"\n",
    "      temp: 20.0\n",
    "      humidity: 42.0\n",
    "      \n",
    "    20000: \n",
    "    - type: \"ThermRead\"\n",
    "      therm: \"R1\"\n",
    "      temp: 21.0\n",
    "      humidity: 39.0\n",
    "      \n",
    "    25000: \n",
    "    - type: \"ThermRead\"\n",
    "      camera: \"R2\"\n",
    "      xCoor: 1\n",
    "      yCoor: 2\n",
    "      \n",
    "    30000:\n",
    "    - type: \"ThermRead\"\n",
    "      therm: \"R2\"\n",
    "      temp: 21.0\n",
    "      humidity: 38.0\n",
    "      \n",
    "    31000: \n",
    "    - type: \"Movement\"\n",
    "      camera: \"R2\"\n",
    "      xCoor: 3\n",
    "      yCoor: 4\n",
    "      \n",
    "    32000: \n",
    "    - type: \"Movement\"\n",
    "      camera: \"R2\"\n",
    "      xCoor: 5\n",
    "      yCoor: 6\n",
    "      \n",
    "    40000:\n",
    "    - type: \"ThermRead\"\n",
    "      therm: \"R1\"\n",
    "      temp: 21.0\n",
    "      humidity: 42.0\n",
    "      \n",
    "    50000: \n",
    "    - type: \"ThermRead\"\n",
    "      therm: \"R2\"\n",
    "      temp: 23.0\n",
    "      humidity: 35.0\n",
    "      \n",
    "    53000: \n",
    "    - type: \"Movement\"\n",
    "      camera: \"R2\"\n",
    "      xCoor: 7\n",
    "      yCoor: 8\n",
    "      \n",
    "    60000: \n",
    "    - type: \"ThermRead\"\n",
    "      therm: \"R1\"\n",
    "      temp: 21.0\n",
    "      humidity: 40.0\n",
    "      \n",
    "    65000: \n",
    "    - type: \"Error\"\n",
    "      camera: \"R2\"\n",
    "      log: \"500\"\n",
    "      \n",
    "    280000: \n",
    "    - type: \"ThermRead\"\n",
    "      therm: \"R1\"\n",
    "      temp: 21.0\n",
    "      humidity: 40.0\n",
    "      \n",
    "    290000:  \n",
    "    - type: \"ThermRead\"\n",
    "      therm: \"R2\"\n",
    "      temp: 45.0\n",
    "      humidity: 16.0"
   ]
  },
  {
   "cell_type": "code",
   "execution_count": 6,
   "id": "960e5c59",
   "metadata": {},
   "outputs": [
    {
     "data": {
      "text/plain": [
       "---\n",
       "inputs: {}"
      ]
     },
     "metadata": {},
     "output_type": "display_data"
    }
   ],
   "source": [
    "%output\n",
    "gotcha"
   ]
  },
  {
   "cell_type": "code",
   "execution_count": null,
   "id": "55124418",
   "metadata": {},
   "outputs": [],
   "source": []
  }
 ],
 "metadata": {
  "kernelspec": {
   "display_name": "kEPLr",
   "language": "python",
   "name": "keplr_kernel"
  },
  "language_info": {
   "extension": ".py",
   "mimetype": "text/plain",
   "name": "kEPLr"
  }
 },
 "nbformat": 4,
 "nbformat_minor": 5
}
