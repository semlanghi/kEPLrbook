{
 "cells": [
  {
   "cell_type": "code",
   "execution_count": 14,
   "metadata": {},
   "outputs": [
    {
     "data": {
      "text/plain": [
       "Query file created and compiled."
      ]
     },
     "metadata": {},
     "output_type": "display_data"
    }
   ],
   "source": [
    "create schema A as (type string, idA int);\n",
    "create schema B as (type string, idB int);\n",
    "create table T as (type string primary key, id count(*));\n",
    "\n",
    "into table T\n",
    "select type, count(*) as id from A group by type;\n",
    "\n",
    "\n",
    "@name('Prova')select type\n",
    "from T output every 5 milliseconds;\n"
   ]
  },
  {
   "cell_type": "code",
   "execution_count": 15,
   "metadata": {},
   "outputs": [
    {
     "data": {
      "text/plain": [
       "Input file created."
      ]
     },
     "metadata": {},
     "output_type": "display_data"
    }
   ],
   "source": [
    "%input\n",
    "inputs:\n",
    "        \n",
    "    1: \n",
    "    \n",
    "    - type: \"A\"\n",
    "      idA: 1\n",
    "    \n",
    "    2: \n",
    "    - type: \"B\"\n",
    "      idB: 1\n",
    "      \n",
    "    3: \n",
    "    - type: \"B\"\n",
    "      idB: 2\n",
    "      \n",
    "    4: \n",
    "    - type: \"A\"\n",
    "      idA: 2\n",
    "      \n",
    "    5:\n",
    "    - type: \"A\"\n",
    "      idA: 3\n",
    "      \n",
    "    6: \n",
    "    - type: \"B\"\n",
    "      idB: 3\n",
    "      \n",
    "    7: \n",
    "    - type: \"A\"\n",
    "      idA: 4\n",
    "      \n",
    "    8:\n",
    "    - type: \"B\"\n",
    "      idB: 4\n",
    "      \n",
    "    "
   ]
  },
  {
   "cell_type": "code",
   "execution_count": 12,
   "metadata": {},
   "outputs": [
    {
     "data": {
      "text/plain": [
       "http://localhost:1234/final_output"
      ]
     },
     "metadata": {},
     "output_type": "display_data"
    }
   ],
   "source": [
    "%output\n",
    "gotcha"
   ]
  },
  {
   "cell_type": "code",
   "execution_count": 26,
   "metadata": {},
   "outputs": [
    {
     "data": {
      "text/plain": [
       "http://localhost:1234/final_output"
      ]
     },
     "metadata": {},
     "output_type": "display_data"
    }
   ],
   "source": [
    "%output\n",
    "gotcha"
   ]
  },
  {
   "cell_type": "code",
   "execution_count": null,
   "metadata": {},
   "outputs": [],
   "source": []
  }
 ],
 "metadata": {
  "kernelspec": {
   "display_name": "kEPLr",
   "language": "python",
   "name": "keplr_kernel"
  },
  "language_info": {
   "extension": ".py",
   "mimetype": "text/plain",
   "name": "kEPLr"
  }
 },
 "nbformat": 4,
 "nbformat_minor": 2
}
