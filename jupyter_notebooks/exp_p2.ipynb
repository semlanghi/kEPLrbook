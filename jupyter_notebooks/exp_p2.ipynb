{
 "cells": [
  {
   "cell_type": "code",
   "execution_count": 5,
   "metadata": {},
   "outputs": [
    {
     "data": {
      "text/plain": [
       "Query file created and compiled."
      ]
     },
     "metadata": {},
     "output_type": "display_data"
    }
   ],
   "source": [
    "create schema A as (type string, player string, hand string, id int);\n",
    "create schema B as (type string,fr string, to string, id int);\n",
    "create schema C as (type string, id int);\n",
    "create schema D as (type string, player string, id int);\n",
    "create schema F as (type string, id int);\n",
    "create schema Q as (type string, id int);\n",
    "\n",
    "\n",
    "@name('Prova')select x.id, y.id \n",
    "from pattern[every(x=A -> y=B)] output last every 1 events;\n",
    "\n"
   ]
  },
  {
   "cell_type": "code",
   "execution_count": 6,
   "metadata": {},
   "outputs": [
    {
     "data": {
      "text/plain": [
       "Input file created."
      ]
     },
     "metadata": {},
     "output_type": "display_data"
    }
   ],
   "source": [
    "%input\n",
    "inputs:\n",
    "        \n",
    "    1: \n",
    "    \n",
    "    - type: \"A\"\n",
    "      player: \"Harden\"\n",
    "      hand: \"sx\"\n",
    "      id: 1\n",
    "    \n",
    "      \n",
    "    \n",
    "    2: \n",
    "    - type: \"B\"\n",
    "      fr: \"Paul\"\n",
    "      to: \"Harden\"\n",
    "      id: 2\n",
    "        \n",
    "    "
   ]
  },
  {
   "cell_type": "code",
   "execution_count": 7,
   "metadata": {
    "scrolled": true
   },
   "outputs": [
    {
     "data": {
      "text/plain": [
       "http://localhost:1234/final_output"
      ]
     },
     "metadata": {},
     "output_type": "display_data"
    }
   ],
   "source": [
    "%output\n",
    "inputs:\n",
    "        \n",
    "    2: \n",
    "    \n",
    "    - x.id: 1\n",
    "      y.id: 2\n",
    "   \n",
    "    "
   ]
  },
  {
   "cell_type": "markdown",
   "metadata": {},
   "source": [
    "## CONSIDERATIONS\n",
    "\n",
    "Second part of the experiment: the pattern should return {(1,2)}.\n",
    "\n",
    "Result of the experiment: ***CORRECT***\n",
    "\n",
    "\n"
   ]
  },
  {
   "cell_type": "code",
   "execution_count": null,
   "metadata": {},
   "outputs": [],
   "source": []
  }
 ],
 "metadata": {
  "kernelspec": {
   "display_name": "kEPLr",
   "language": "python",
   "name": "keplr_kernel"
  },
  "language_info": {
   "extension": ".py",
   "mimetype": "text/plain",
   "name": "kEPLr"
  }
 },
 "nbformat": 4,
 "nbformat_minor": 2
}
