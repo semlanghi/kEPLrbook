{
 "cells": [
  {
   "cell_type": "code",
   "execution_count": 31,
   "metadata": {},
   "outputs": [
    {
     "data": {
      "text/plain": [
       "Query file created and compiled."
      ]
     },
     "metadata": {},
     "output_type": "display_data"
    }
   ],
   "source": [
    "create schema A as (type string, idA int);\n",
    "create schema B as (type string, idB int);\n",
    "\n",
    "@name('Prova')\n",
    "select x.idA as idA, y.idB as idB \n",
    "from pattern[(every x=A) or (every y=B)];\n"
   ]
  },
  {
   "cell_type": "code",
   "execution_count": 32,
   "metadata": {},
   "outputs": [
    {
     "data": {
      "text/plain": [
       "Input file created."
      ]
     },
     "metadata": {},
     "output_type": "display_data"
    }
   ],
   "source": [
    "%input\n",
    "inputs:\n",
    "        \n",
    "    1: \n",
    "    \n",
    "    - type: \"A\"\n",
    "      idA: 1\n",
    "    \n",
    "    2: \n",
    "    - type: \"B\"\n",
    "      idB: 1\n",
    "      \n",
    "    3: \n",
    "    - type: \"B\"\n",
    "      idB: 2\n",
    "      \n",
    "    4: \n",
    "    - type: \"A\"\n",
    "      idA: 2\n",
    "      \n",
    "    5:\n",
    "    - type: \"A\"\n",
    "      player: \"Harden\"\n",
    "      idA: 3\n",
    "      \n",
    "    6: \n",
    "    - type: \"B\"\n",
    "      idB: 3\n",
    "      \n",
    "    7: \n",
    "    - type: \"A\"\n",
    "      idA: 4\n",
    "      \n",
    "    8:\n",
    "    - type: \"B\"\n",
    "      idB: 4\n",
    "    "
   ]
  },
  {
   "cell_type": "code",
   "execution_count": 22,
   "metadata": {},
   "outputs": [
    {
     "data": {
      "text/plain": [
       "Start Comparison:\n",
       "Time 1:\n",
       "In the actual result time 1 is not present.\n",
       "******************************\n",
       "Time 2:\n",
       "In the expected result time 2 is not present.\n",
       "******************************\n"
      ]
     },
     "metadata": {},
     "output_type": "display_data"
    }
   ],
   "source": [
    "%output\n",
    "inputs:\n",
    "        \n",
    "    1: \n",
    "    \n",
    "     - type: \"A\"\n",
    "       idA: 1"
   ]
  },
  {
   "cell_type": "code",
   "execution_count": 26,
   "metadata": {},
   "outputs": [
    {
     "data": {
      "text/plain": [
       "http://localhost:1234/final_output"
      ]
     },
     "metadata": {},
     "output_type": "display_data"
    }
   ],
   "source": [
    "%output\n",
    "gotcha"
   ]
  },
  {
   "cell_type": "code",
   "execution_count": null,
   "metadata": {},
   "outputs": [],
   "source": []
  }
 ],
 "metadata": {
  "kernelspec": {
   "display_name": "kEPLr",
   "language": "python",
   "name": "keplr_kernel"
  },
  "language_info": {
   "extension": ".py",
   "mimetype": "text/plain",
   "name": "kEPLr"
  }
 },
 "nbformat": 4,
 "nbformat_minor": 2
}
