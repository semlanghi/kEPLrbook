{
 "cells": [
  {
   "cell_type": "code",
   "execution_count": 15,
   "metadata": {},
   "outputs": [
    {
     "data": {
      "text/plain": [
       "Query file created and compiled."
      ]
     },
     "metadata": {},
     "output_type": "display_data"
    }
   ],
   "source": [
    "create schema Passage as (fr string, to string, id int);\n",
    "create schema Jam as (player string, id int); \n",
    "create schema StartEvent as (type string, id int); \n",
    "\n",
    "@name('Prova')select  x.id as jam_id,y.id as pass_id from pattern [every x=Jam -> (every y=Passage) where timer:within(10 sec)]\n"
   ]
  },
  {
   "cell_type": "code",
   "execution_count": 16,
   "metadata": {},
   "outputs": [
    {
     "data": {
      "text/plain": [
       "Input file created."
      ]
     },
     "metadata": {},
     "output_type": "display_data"
    }
   ],
   "source": [
    "%input\n",
    "inputs:\n",
    "\n",
    "    0:\n",
    "      - type: \"StartEvent\"\n",
    "        \n",
    "    9000: \n",
    "      - type: \"Jam\"\n",
    "        player: \"Jordan\"\n",
    "        id: 1\n",
    "      - type: \"Passage\"\n",
    "        fr: \"Paul\"\n",
    "        to: \"Jordan\"\n",
    "        id: 1\n",
    "        \n",
    "    12000: \n",
    "      - type: \"Passage\"\n",
    "        fr: \"Paul\"\n",
    "        to: \"Jordan\"\n",
    "        id: 2\n",
    "        \n",
    "    15000: \n",
    "      - type: \"Jam\"\n",
    "        player: \"Jordan\"\n",
    "        id: 2\n",
    "      - type: \"Passage\"\n",
    "        fr: \"Paul\"\n",
    "        to: \"Jordan\"\n",
    "        id: 3\n",
    "    25000: \n",
    "      - type: \"Jam\"\n",
    "        player: \"Jordan\"\n",
    "        id: 3\n",
    "      - type: \"Passage\"\n",
    "        fr: \"Paul\"\n",
    "        to: \"Jordan\"\n",
    "        id: 4\n",
    "        \n",
    "\n",
    "        \n",
    "    "
   ]
  },
  {
   "cell_type": "code",
   "execution_count": 14,
   "metadata": {},
   "outputs": [
    {
     "data": {
      "text/plain": [
       "http://localhost:1234/final_output"
      ]
     },
     "metadata": {},
     "output_type": "display_data"
    }
   ],
   "source": [
    "%output\n",
    "gotcha"
   ]
  },
  {
   "cell_type": "markdown",
   "metadata": {},
   "source": [
    "## CONSIDERATIONS\n",
    "\n",
    "```\n",
    "pattern [every x=Jam -> y=Passage where timer:within(10 sec)]\n",
    "```\n",
    "\n",
    "this pattern search for 10 seconds searching for a Passage, so equal to this\n",
    "\n",
    "```\n",
    "pattern [every x=Jam -> (y=Passage where timer:within(10 sec))]\n",
    "```\n",
    "\n",
    "```\n",
    "pattern [every x=Jam -> (every y=Passage) where timer:within(10 sec)]\n",
    "```\n",
    "\n",
    "this pattern instead search for all b combination after every a that comes before 10 seconds"
   ]
  },
  {
   "cell_type": "code",
   "execution_count": null,
   "metadata": {},
   "outputs": [],
   "source": []
  }
 ],
 "metadata": {
  "kernelspec": {
   "display_name": "kEPLr",
   "language": "python",
   "name": "keplr_kernel"
  },
  "language_info": {
   "extension": ".py",
   "mimetype": "text/plain",
   "name": "kEPLr"
  }
 },
 "nbformat": 4,
 "nbformat_minor": 2
}
