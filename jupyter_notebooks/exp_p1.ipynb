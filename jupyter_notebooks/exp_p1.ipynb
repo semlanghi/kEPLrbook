{
 "cells": [
  {
   "cell_type": "code",
   "execution_count": 5,
   "metadata": {},
   "outputs": [
    {
     "data": {
      "text/plain": [
       "Query file created and compiled."
      ]
     },
     "metadata": {},
     "output_type": "display_data"
    }
   ],
   "source": [
    "create schema T as (type string, sid int, tv int);\n",
    "create schema H as (hv int) inherits T;\n",
    "create schema SF as (type string, sid int, code int);\n",
    "\n",
    "create context PartitionById\n",
    "partition by sid from T, sid from SF;\n",
    "context PartitionById\n",
    "insert into HorSF\n",
    "select * \n",
    "from pattern [every (x=H or y=SF)];\n",
    "\n",
    "create context PartitionById1\n",
    "partition by x.sid from HorSF, sid from T;\n",
    "context PartitionById1\n",
    "insert into HpT\n",
    "select * \n",
    "from pattern [every (x=HorSF)-> y=T];\n",
    "\n",
    "\n",
    "create window HpT_windowed#time(3 seconds) as HpT;\n",
    "\n",
    "create window HpT_windowed0#time(3 seconds) as HpT;\n",
    "\n",
    "create window HpT_windowed1#time(3 seconds) as HpT_windowed insert;\n",
    "\n",
    "\n",
    "insert into HpT_windowed\n",
    "select * \n",
    "from HpT;\n",
    "\n",
    "\n",
    "@name('Prova')\n",
    "select x.x.sid, avg(x.x.hv)\n",
    "from HpT_windowed\n",
    "where x.x.tv <= y.tv - 20;\n"
   ]
  },
  {
   "cell_type": "code",
   "execution_count": 48,
   "metadata": {},
   "outputs": [
    {
     "data": {
      "text/plain": [
       "Input file created."
      ]
     },
     "metadata": {},
     "output_type": "display_data"
    }
   ],
   "source": [
    "%input\n",
    "inputs:\n",
    "        \n",
    "    1: \n",
    "    \n",
    "    - type: \"T\"\n",
    "      sid: 1\n",
    "      tv: 49\n",
    "      \n",
    "    2: \n",
    "    \n",
    "    - type: \"SF\"\n",
    "      sid: 3\n",
    "      code: 404\n",
    "      \n",
    "    3: \n",
    "    - type: \"H\"\n",
    "      sid: 2\n",
    "      tv: 69\n",
    "      hv: 90\n",
    "      \n",
    "    4: \n",
    "    \n",
    "    - type: \"T\"\n",
    "      sid: 1\n",
    "      tv: 99\n",
    "      \n",
    "    5: \n",
    "    - type: \"H\"\n",
    "      sid: 1\n",
    "      tv: 49\n",
    "      hv: 60\n",
    "      \n",
    "    6: \n",
    "    - type: \"H\"\n",
    "      sid: 2\n",
    "      tv: 89\n",
    "      hv: 70\n",
    "      \n",
    "    \n",
    "    "
   ]
  },
  {
   "cell_type": "code",
   "execution_count": 22,
   "metadata": {},
   "outputs": [
    {
     "data": {
      "text/plain": [
       "Start Comparison:\n",
       "Time 1:\n",
       "In the actual result time 1 is not present.\n",
       "******************************\n",
       "Time 2:\n",
       "In the expected result time 2 is not present.\n",
       "******************************\n"
      ]
     },
     "metadata": {},
     "output_type": "display_data"
    }
   ],
   "source": [
    "%output\n",
    "inputs:\n",
    "        \n",
    "    1: \n",
    "    \n",
    "     - type: \"A\"\n",
    "       idA: 1"
   ]
  },
  {
   "cell_type": "code",
   "execution_count": 26,
   "metadata": {},
   "outputs": [
    {
     "data": {
      "text/plain": [
       "http://localhost:1234/final_output"
      ]
     },
     "metadata": {},
     "output_type": "display_data"
    }
   ],
   "source": [
    "%output\n",
    "gotcha"
   ]
  },
  {
   "cell_type": "code",
   "execution_count": null,
   "metadata": {},
   "outputs": [],
   "source": []
  }
 ],
 "metadata": {
  "kernelspec": {
   "display_name": "kEPLr",
   "language": "python",
   "name": "keplr_kernel"
  },
  "language_info": {
   "extension": ".py",
   "mimetype": "text/plain",
   "name": "kEPLr"
  }
 },
 "nbformat": 4,
 "nbformat_minor": 2
}
