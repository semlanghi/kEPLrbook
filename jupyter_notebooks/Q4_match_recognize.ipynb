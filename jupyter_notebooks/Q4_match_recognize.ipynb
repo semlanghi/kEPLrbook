{
 "cells": [
  {
   "cell_type": "markdown",
   "metadata": {},
   "source": [
    "## Match_Recognize Limit, in terms of consequence"
   ]
  },
  {
   "cell_type": "code",
   "execution_count": 4,
   "metadata": {},
   "outputs": [
    {
     "data": {
      "text/plain": [
       "Query file created and compiled."
      ]
     },
     "metadata": {},
     "output_type": "display_data"
    }
   ],
   "source": [
    "CREATE SCHEMA Crypto(id string,v double,ts int);\n",
    "\n",
    "\n",
    "@name('Prova')SELECT * FROM Crypto MATCH_RECOGNIZE (\n",
    "PARTITION BY Crypto.id \n",
    "MEASURES C.id AS id, max(A.v) AS M, min(B.v) AS m,\n",
    "         (B.lastOf().ts - A.firstOf().ts)/86400 AS d\n",
    "AFTER MATCH SKIP past last row \n",
    "PATTERN (A+ B+ C) \n",
    "DEFINE A AS A.v >= 1.20*prev(A.v,1),\n",
    "       B AS B.v > 0.80*(A.lastOf().v), \n",
    "       C AS C.v < 0.80*(B.lastOf().v));"
   ]
  },
  {
   "cell_type": "code",
   "execution_count": 5,
   "metadata": {},
   "outputs": [
    {
     "data": {
      "text/plain": [
       "Input file created."
      ]
     },
     "metadata": {},
     "output_type": "display_data"
    }
   ],
   "source": [
    "%input\n",
    "inputs:\n",
    "        \n",
    "    0: \n",
    "    - type: \"Crypto\"\n",
    "      id: \"BTC\"\n",
    "      v: 12.1\n",
    "      ts: 0\n",
    "      \n",
    "    1000: \n",
    "    - type: \"Crypto\"\n",
    "      id: \"BTC\"\n",
    "      v: 22.1\n",
    "      ts: 1000\n",
    "      \n",
    "    2000: \n",
    "    - type: \"Crypto\"\n",
    "      id: \"BTC\"\n",
    "      v: 32.1\n",
    "      ts: 2000\n",
    "      \n",
    "    4000: \n",
    "    - type: \"Crypto\"\n",
    "      id: \"BTC\"\n",
    "      v: 32.1\n",
    "      ts: 4000\n",
    "      \n",
    "    5000: \n",
    "    - type: \"Crypto\"\n",
    "      id: \"BTC\"\n",
    "      v: 112.1\n",
    "      ts: 5000\n",
    "      \n",
    "    10000: \n",
    "    - type: \"Crypto\"\n",
    "      id: \"BTC\"\n",
    "      v: 12.1\n",
    "      ts: 10000\n",
    "      \n",
    "    11000: \n",
    "    - type: \"Crypto\"\n",
    "      id: \"BTC\"\n",
    "      v: 12.1\n",
    "      ts: 10000\n",
    "      \n",
    "    "
   ]
  },
  {
   "cell_type": "code",
   "execution_count": 6,
   "metadata": {},
   "outputs": [
    {
     "data": {
      "text/plain": [
       "---\n",
       "inputs:\n",
       "  10000:\n",
       "  - d: 0.046296296296296294\n",
       "    id: \"BTC\"\n",
       "    M: 22.1\n",
       "    m: 32.1"
      ]
     },
     "metadata": {},
     "output_type": "display_data"
    }
   ],
   "source": [
    "%output\n",
    "gotcha"
   ]
  }
 ],
 "metadata": {
  "kernelspec": {
   "display_name": "kEPLr",
   "language": "python",
   "name": "keplr_kernel"
  },
  "language_info": {
   "extension": ".py",
   "mimetype": "text/plain",
   "name": "kEPLr"
  }
 },
 "nbformat": 4,
 "nbformat_minor": 2
}
