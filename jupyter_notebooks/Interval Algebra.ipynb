{
 "cells": [
  {
   "cell_type": "markdown",
   "metadata": {},
   "source": [
    "# Interval Logic\n",
    "\n",
    "Using *starttimestamp* and *endtimestamp* set up an event **duration**.\n",
    "\n",
    "These can be used in Interval Logic.\n",
    "\n",
    "## Try to use interval algebra with Match_Recognize"
   ]
  },
  {
   "cell_type": "code",
   "execution_count": 2,
   "metadata": {},
   "outputs": [
    {
     "data": {
      "text/plain": [
       "Query file created and compiled."
      ]
     },
     "metadata": {},
     "output_type": "display_data"
    }
   ],
   "source": [
    "create schema Passage as (type string,fr string, to string);\n",
    "create schema BallContact as (type string, player string, hand string, num int)\n",
    "starttimestamp ;\n",
    "create schema Shot as (meter_distance int) inherits BallContact; \n",
    "create schema Interruption as (type string);\n",
    "create schema Out as (posx float, posy float) inherits Interruption; \n",
    "create schema Foul as (player string, victim string) inherits Interruption; \n",
    "\n",
    "\n",
    "\n",
    "@name('Prova')select sum(num) from BallContact; "
   ]
  },
  {
   "cell_type": "code",
   "execution_count": 3,
   "metadata": {},
   "outputs": [
    {
     "data": {
      "text/plain": [
       "Input file created."
      ]
     },
     "metadata": {},
     "output_type": "display_data"
    }
   ],
   "source": [
    "%input\n",
    "inputs:\n",
    "        \n",
    "    0: \n",
    "    - type: \"Passage\"\n",
    "      fr: \"Paul\"\n",
    "      to: \"Harden\"\n",
    "      \n",
    "    1: \n",
    "    - type: \"BallContact\"\n",
    "      player: \"Harden\"\n",
    "      hand: \"dx\"\n",
    "      num: 1\n",
    "      \n",
    "    - type: \"Passage\"\n",
    "      fr: \"Capela\"\n",
    "      to: \"Harden\"\n",
    "    \n",
    "    50: \n",
    "    - type: \"BallContact\"\n",
    "      player: \"Harden\"\n",
    "      hand: \"sx\"\n",
    "      num: 2\n",
    "      \n",
    "    100: \n",
    "    - type: \"BallContact\"\n",
    "      player: \"Harden\"\n",
    "      hand: \"sx\"\n",
    "      num: 3\n",
    "    - type: \"Passage\"\n",
    "      fr: \"Capela\"\n",
    "      to: \"Harden\"\n",
    "    \n",
    "    150: \n",
    "    - type: \"Shot\"\n",
    "      player: \"Harden\"\n",
    "      hand: \"sx\"\n",
    "      distance: \"27\"\n",
    "      num: 4\n",
    "      \n",
    "    250:\n",
    "    - type: \"BallContact\"\n",
    "      player: \"Capela\"\n",
    "      hand: \"sx\"\n",
    "      num: 1\n",
    "     \n",
    "    350: \n",
    "    - type: \"Passage\"\n",
    "      fr: \"Capela\"\n",
    "      to: \"Harden\"\n",
    "      \n",
    "    450: \n",
    "    - type: \"Shot\"\n",
    "      player: \"Harden\"\n",
    "      hand: \"sx\"\n",
    "      distance: \"27\"\n",
    "      num: 5\n",
    "      \n",
    "    550: \n",
    "    - type: \"Passage\"\n",
    "      fr: \"Capela\"\n",
    "      to: \"Harden\"\n",
    "      \n",
    "    650: \n",
    "    - type: \"Shot\"\n",
    "      player: \"Harden\"\n",
    "      hand: \"sx\"\n",
    "      distance: \"27\"\n",
    "      num: 6"
   ]
  },
  {
   "cell_type": "code",
   "execution_count": 4,
   "metadata": {},
   "outputs": [
    {
     "data": {
      "text/plain": [
       "http://localhost:1234/final_output"
      ]
     },
     "metadata": {},
     "output_type": "display_data"
    }
   ],
   "source": [
    "%output\n",
    "gotcha"
   ]
  },
  {
   "cell_type": "code",
   "execution_count": null,
   "metadata": {},
   "outputs": [],
   "source": []
  }
 ],
 "metadata": {
  "kernelspec": {
   "display_name": "kEPLr",
   "language": "python",
   "name": "keplr_kernel"
  },
  "language_info": {
   "extension": ".py",
   "mimetype": "text/plain",
   "name": "kEPLr"
  }
 },
 "nbformat": 4,
 "nbformat_minor": 2
}
