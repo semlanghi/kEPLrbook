{
 "cells": [
  {
   "cell_type": "code",
   "execution_count": 4,
   "metadata": {},
   "outputs": [
    {
     "data": {
      "text/plain": [
       "Problem with the compilation."
      ]
     },
     "metadata": {},
     "output_type": "display_data"
    }
   ],
   "source": [
    "create schema Passage as (fr string, to string);\n",
    "create schema Jam as (player string, amount int); \n",
    "\n",
    "create context PartByPlayer partition by player from Jam;\n",
    "\n",
    "\n",
    "context PartByPlayer insert into ResultStream select player, amount from Jam; \n",
    "\n",
    "@name('Prova') context PartByPlayer select player, sum(amount) from ResultStream; \n"
   ]
  },
  {
   "cell_type": "code",
   "execution_count": 15,
   "metadata": {},
   "outputs": [
    {
     "data": {
      "text/plain": [
       "Input file created."
      ]
     },
     "metadata": {},
     "output_type": "display_data"
    }
   ],
   "source": [
    "%input\n",
    "inputs:\n",
    "    0: \n",
    "      - type: \"Passage\"\n",
    "        fr: \"Paul\"\n",
    "        to: \"Jordan\"\n",
    "        \n",
    "    500: \n",
    "      - type: \"Passage\"\n",
    "        fr: \"Paul\"\n",
    "        to: \"Jordan\"\n",
    "\n",
    "      - type: \"Jam\"\n",
    "        player: \"Jordan\"\n",
    "        amount: 1\n",
    "        \n",
    "      - type: \"Jam\"\n",
    "        player: \"Jordan\"\n",
    "        amount: 1\n",
    "        \n",
    "      - type: \"Jam\"\n",
    "        player: \"Griffin\"\n",
    "        amount: 1\n",
    "        \n",
    "      - type: \"Jam\"\n",
    "        player: \"Paul\"\n",
    "        amount: 1\n",
    "        \n",
    "      - type: \"Jam\"\n",
    "        player: \"Griffin\"\n",
    "        amount: 1\n",
    "        \n",
    "      - "
   ]
  },
  {
   "cell_type": "code",
   "execution_count": 16,
   "metadata": {},
   "outputs": [
    {
     "data": {
      "text/plain": [
       "http://localhost:1234/final_output"
      ]
     },
     "metadata": {},
     "output_type": "display_data"
    }
   ],
   "source": [
    "%output\n",
    "gotcha"
   ]
  },
  {
   "cell_type": "markdown",
   "metadata": {},
   "source": []
  }
 ],
 "metadata": {
  "kernelspec": {
   "display_name": "kEPLr",
   "language": "python",
   "name": "keplr_kernel"
  },
  "language_info": {
   "extension": ".py",
   "mimetype": "text/plain",
   "name": "kEPLr"
  }
 },
 "nbformat": 4,
 "nbformat_minor": 2
}
